{
 "cells": [
  {
   "cell_type": "code",
   "execution_count": null,
   "metadata": {},
   "outputs": [],
   "source": [
    "#import the packages you need\n",
    "\n",
    "import pandas as pd\n",
    "from ast import literal_eval\n",
    "import statistics as s \n",
    "import numpy as np\n",
    "\n",
    "pd.options.mode.chained_assignment = None  # default='warn'"
   ]
  },
  {
   "cell_type": "code",
   "execution_count": null,
   "metadata": {},
   "outputs": [],
   "source": [
    "#import the file you want to clean in pandas to the dataframe - allows special characters - allows index of 1 - whatever no of lines\n",
    "\n",
    "df = pd.read_csv(\"insert_User/path/to.csv\", encoding = \"ISO-8859-1\", index_col=0)"
   ]
  },
  {
   "cell_type": "code",
   "execution_count": null,
   "metadata": {},
   "outputs": [],
   "source": [
    "#creates new  column which is pandas version of datetime (making date readable by pandas)\n",
    "\n",
    "df['ad_start_date'] = pd.to_datetime(df['ad_delivery_start_time'])"
   ]
  },
  {
   "cell_type": "code",
   "execution_count": null,
   "metadata": {},
   "outputs": [],
   "source": [
    "# set the date range\n",
    "df = df[df.ad_start_date.between('2019-07-23','2019-09-03')]"
   ]
  },
  {
   "cell_type": "code",
   "execution_count": null,
   "metadata": {},
   "outputs": [],
   "source": [
    "#rest the index to normal range index \n",
    "\n",
    "df.reset_index(drop=True, inplace=True)"
   ]
  },
  {
   "cell_type": "code",
   "execution_count": null,
   "metadata": {},
   "outputs": [],
   "source": [
    "# remove rows which don't have demographic distribution (non values will create problems with parsing)\n",
    "\n",
    "df.dropna(subset=['demographic_distribution'], inplace=True)"
   ]
  },
  {
   "cell_type": "code",
   "execution_count": null,
   "metadata": {},
   "outputs": [],
   "source": [
    "# this makes the demographic dist column into python datatypes (a list of dicts) to be used for manipulation\n",
    "#df.loc = abaility to access a group of rows and columns by label(s) or a boolean array. (components of a string in this case)\n",
    "#dropna will remove those with no values(NAN)\n",
    "#apply(literal_eval) converts the json to dicts\n",
    "\n",
    "\n",
    "\n",
    "df.loc[:,'fixed_dems'] = df.loc[:,'demographic_distribution'].dropna().apply(literal_eval)"
   ]
  },
  {
   "cell_type": "code",
   "execution_count": null,
   "metadata": {},
   "outputs": [],
   "source": [
    "#these functions identify gender values in percetages (pulling out gender and matching it to a percentage)\n",
    "\n",
    "def male(x):\n",
    "    male_percentage = 0.0\n",
    "    for i in x:\n",
    "        if i['gender'] == \"male\":\n",
    "            male_percentage += float(i['percentage'])\n",
    "    return male_percentage\n",
    "            \n",
    "def female(x):\n",
    "    female_percentage = 0.0\n",
    "    for i in x:\n",
    "        if i['gender'] == \"female\":\n",
    "            female_percentage += float(i['percentage'])\n",
    "    return female_percentage    "
   ]
  },
  {
   "cell_type": "code",
   "execution_count": null,
   "metadata": {},
   "outputs": [],
   "source": [
    "#assigning the new columns, via the function call\n",
    "\n",
    "df.loc[:,'percentage_male'] = df['fixed_dems'].apply(male)\n",
    "df.loc[:,'percentage_female'] = df['fixed_dems'].apply(female)"
   ]
  },
  {
   "cell_type": "code",
   "execution_count": null,
   "metadata": {},
   "outputs": [],
   "source": [
    "# Add gender and age together to create new function for each category\n",
    "# This will instead create the 12 different breakdown columns (run this cell and the next 3)\n",
    "\n",
    "def age_gender(x):\n",
    "    age_13_17_m = 0.0\n",
    "    age_18_24_m = 0.0\n",
    "    age_25_34_m = 0.0\n",
    "    age_35_44_m = 0.0\n",
    "    age_45_54_m = 0.0\n",
    "    age_55_64_m = 0.0\n",
    "    age_65_m = 0.0\n",
    "    age_13_17_f = 0.0\n",
    "    age_18_24_f = 0.0\n",
    "    age_25_34_f = 0.0\n",
    "    age_35_44_f = 0.0\n",
    "    age_45_54_f = 0.0\n",
    "    age_55_64_f = 0.0\n",
    "    age_65_f = 0.0\n",
    "    for i in x:\n",
    "        if i['gender'] == \"male\":\n",
    "            if i['age'] == \"13-17\":\n",
    "                age_13_17_m += float(i['percentage'])        \n",
    "            elif i['age'] == \"18-24\":\n",
    "                age_18_24_m += float(i['percentage'])\n",
    "            elif i['age'] == \"25-34\":\n",
    "                age_25_34_m += float(i['percentage'])\n",
    "            elif i['age'] == \"35-44\":\n",
    "                age_35_44_m += float(i['percentage'])\n",
    "            elif i['age'] == \"45-54\":\n",
    "                age_45_54_m += float(i['percentage'])      \n",
    "            elif i['age'] == \"55-64\":\n",
    "                age_55_64_m += float(i['percentage']) \n",
    "            elif i['age'] == \"65+\":\n",
    "                age_65_m += float(i['percentage'])\n",
    "        if i['gender'] == \"female\":\n",
    "            if i['age'] == \"13-17\":\n",
    "                age_13_17_f += float(i['percentage'])        \n",
    "            elif i['age'] == \"18-24\":\n",
    "                age_18_24_f += float(i['percentage'])\n",
    "            elif i['age'] == \"25-34\":\n",
    "                age_25_34_f += float(i['percentage'])\n",
    "            elif i['age'] == \"35-44\":\n",
    "                age_35_44_f += float(i['percentage'])\n",
    "            elif i['age'] == \"45-54\":\n",
    "                age_45_54_f += float(i['percentage'])      \n",
    "            elif i['age'] == \"55-64\":\n",
    "                age_55_64_f += float(i['percentage']) \n",
    "            elif i['age'] == \"65+\":\n",
    "                age_65_f += float(i['percentage'])\n",
    "    \n",
    "    return dict(age_13_17_m = age_13_17_m, age_18_24_m = age_18_24_m, age_25_34_m = age_25_34_m, age_35_44_m = age_35_44_m, age_45_54_m = age_45_54_m, age_55_64_m = age_55_64_m, age_65_m = age_65_m,\n",
    "               age_13_17_f = age_13_17_f, age_18_24_f = age_18_24_f, age_25_34_f = age_25_34_f, age_35_44_f = age_35_44_f, age_45_54_f = age_45_54_f, age_55_64_f = age_55_64_f, age_65_f = age_65_f)\n",
    "\n",
    "\n",
    "\n",
    "#apply new category age_gender definitions to column\n",
    "df.loc[:,'age'] = df['fixed_dems'].dropna().apply(age_gender)\n"
   ]
  },
  {
   "cell_type": "code",
   "execution_count": null,
   "metadata": {},
   "outputs": [],
   "source": [
    "#create columns for each category \n",
    "\n",
    "df.loc[:,'age_13_17_m'] = '0.0'\n",
    "df.loc[:,'age_18_24_m'] = '0.0'\n",
    "df.loc[:,'age_25_34_m'] = '0.0'\n",
    "df.loc[:,'age_35_44_m'] = '0.0'\n",
    "df.loc[:,'age_45_54_m'] = '0.0'\n",
    "df.loc[:,'age_55_64_m'] = '0.0'\n",
    "df.loc[:,'age_65_m'] = '0.0'\n",
    "df.loc[:,'age_13_17_f'] = '0.0'\n",
    "df.loc[:,'age_18_24_f'] = '0.0'\n",
    "df.loc[:,'age_25_34_f'] = '0.0'\n",
    "df.loc[:,'age_35_44_f'] = '0.0'\n",
    "df.loc[:,'age_45_54_f'] = '0.0'\n",
    "df.loc[:,'age_55_64_f'] = '0.0'\n",
    "df.loc[:,'age_65_f'] = '0.0'"
   ]
  },
  {
   "cell_type": "code",
   "execution_count": null,
   "metadata": {},
   "outputs": [],
   "source": [
    "df['age'][1]"
   ]
  },
  {
   "cell_type": "code",
   "execution_count": null,
   "metadata": {},
   "outputs": [],
   "source": [
    "#assign values to those columns \n",
    "\n",
    "for a, b in df.iterrows():\n",
    "    print(a)   \n",
    "    df.loc[:,'age_13_17_m'][a] = df['age'][a]['age_13_17_m']\n",
    "    df.loc[:,'age_18_24_m'][a] = df['age'][a]['age_18_24_m']\n",
    "    df.loc[:,'age_25_34_m'][a] = df['age'][a]['age_25_34_m']\n",
    "    df.loc[:,'age_35_44_m'][a] = df['age'][a]['age_35_44_m']\n",
    "    df.loc[:,'age_45_54_m'][a] = df['age'][a]['age_45_54_m']\n",
    "    df.loc[:,'age_55_64_m'][a] = df['age'][a]['age_55_64_m']\n",
    "    df.loc[:,'age_65_m'][a] = df['age'][a]['age_65_m']\n",
    "    df.loc[:,'age_13_17_f'][a] = df['age'][a]['age_13_17_f']\n",
    "    df.loc[:,'age_18_24_f'][a] = df['age'][a]['age_18_24_f']\n",
    "    df.loc[:,'age_25_34_f'][a] = df['age'][a]['age_25_34_f']\n",
    "    df.loc[:,'age_35_44_f'][a] = df['age'][a]['age_35_44_f']\n",
    "    df.loc[:,'age_45_54_f'][a] = df['age'][a]['age_45_54_f']\n",
    "    df.loc[:,'age_55_64_f'][a] = df['age'][a]['age_55_64_f']\n",
    "    df.loc[:,'age_65_f'][a] = df['age'][a]['age_65_f']"
   ]
  },
  {
   "cell_type": "code",
   "execution_count": null,
   "metadata": {},
   "outputs": [],
   "source": [
    "#run if below line has an error\n",
    "df.drop('ad_start_date', axis=1, inplace=True)"
   ]
  },
  {
   "cell_type": "code",
   "execution_count": null,
   "metadata": {},
   "outputs": [],
   "source": [
    "#export statement, can also be customised\n",
    "\n",
    "df.to_excel('insert_name.xlsx')"
   ]
  }
 ],
 "metadata": {
  "kernelspec": {
   "display_name": "Python 3",
   "language": "python",
   "name": "python3"
  },
  "language_info": {
   "codemirror_mode": {
    "name": "ipython",
    "version": 3
   },
   "file_extension": ".py",
   "mimetype": "text/x-python",
   "name": "python",
   "nbconvert_exporter": "python",
   "pygments_lexer": "ipython3",
   "version": "3.7.3"
  }
 },
 "nbformat": 4,
 "nbformat_minor": 2
}
